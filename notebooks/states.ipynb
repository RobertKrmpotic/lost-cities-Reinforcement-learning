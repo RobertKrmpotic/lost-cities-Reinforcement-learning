{
 "cells": [
  {
   "cell_type": "code",
   "execution_count": 1,
   "metadata": {},
   "outputs": [],
   "source": [
    "import pandas as pd\n",
    "import numpy as np\n",
    "import itertools\n",
    "\n",
    "\n",
    "def states():\n",
    "    \"\"\"TODO: Comment this function\"\"\"\n",
    "\n",
    "    # Normal cards\n",
    "    norm_cards = {\"RED\":2,\"GRE\":2,\"BLU\":2,\"YEL\":2}\n",
    "    spec_cards = {\"SKI\":1,\"REV\":1,\"PL2\":1}\n",
    "    wild_cards = {\"PL4\":1,\"COL\":1}\n",
    "\n",
    "    # Special cards\n",
    "    norm_cards_play = {\"RED#\":1,\"GRE#\":1,\"BLU#\":1,\"YEL#\":1}\n",
    "    spec_cards_play = {\"SKI#\":1,\"REV#\":1,\"PL2#\":1}\n",
    "\n",
    "    # Combine dictionaries\n",
    "    states_dict  = {\n",
    "        **norm_cards, \n",
    "        **spec_cards, \n",
    "        **wild_cards, \n",
    "        **norm_cards_play, \n",
    "        **spec_cards_play\n",
    "    }\n",
    "    states = [[\"RED\", \"GRE\", \"BLU\", \"YEL\"]]\n",
    "\n",
    "    for val in states_dict.values():\n",
    "        aux = range(0,val+1)\n",
    "        states.append(aux)\n",
    "\n",
    "    # Conduct all combinations\n",
    "    states = list(itertools.product(*states))\n",
    "    states_all = list()\n",
    "\n",
    "    for i in range(len(states)):\n",
    "        if (\n",
    "            states[i][1] >= states[i][10] and\n",
    "            states[i][2] >= states[i][11] and\n",
    "            states[i][3] >= states[i][12] and\n",
    "            states[i][4] >= states[i][13] and\n",
    "            states[i][5] >= states[i][14] and\n",
    "            states[i][6] >= states[i][15] and\n",
    "            states[i][7] >= states[i][16]\n",
    "        ): \n",
    "            states_all.append(states[i])\n",
    "\n",
    "    return states_all"
   ]
  },
  {
   "cell_type": "code",
   "execution_count": null,
   "metadata": {},
   "outputs": [],
   "source": []
  }
 ],
 "metadata": {
  "kernelspec": {
   "display_name": "Python 3",
   "language": "python",
   "name": "python3"
  },
  "language_info": {
   "codemirror_mode": {
    "name": "ipython",
    "version": 3
   },
   "file_extension": ".py",
   "mimetype": "text/x-python",
   "name": "python",
   "nbconvert_exporter": "python",
   "pygments_lexer": "ipython3",
   "version": "3.9.5"
  },
  "orig_nbformat": 4,
  "vscode": {
   "interpreter": {
    "hash": "b8c1722c1994a3037de5c63e7758d59d0598374d99f8fa98eb60cf0da4bc4f8c"
   }
  }
 },
 "nbformat": 4,
 "nbformat_minor": 2
}
