{
 "cells": [
  {
   "cell_type": "code",
   "execution_count": null,
   "metadata": {},
   "outputs": [],
   "source": [
    "class Card:\n",
    "    def __init__(self, number:int, colour:str) -> None:\n",
    "        self.number = number\n",
    "        self.colour = colour\n",
    "        self.wager = self._is_wager(self.number)\n",
    "\n",
    "    def _is_wager(self,number):\n",
    "        if number == 0:\n",
    "            return True\n",
    "    \n",
    "    def __str__(self):\n",
    "        return f\"{self.colour} {self.number}\""
   ]
  },
  {
   "cell_type": "code",
   "execution_count": null,
   "metadata": {},
   "outputs": [],
   "source": [
    "import random\n",
    "class Deck():\n",
    "    def __init__(self, cards:list) -> None:\n",
    "        self.list = [] \n",
    "        self.populate_deck(cards)\n",
    "        self.len = len(cards)\n",
    "\n",
    "    def populate_deck(self, cards:list):\n",
    "        for card in cards:\n",
    "            self.list.append(card)\n",
    "    \n",
    "    def shuffle_deck(self):\n",
    "        random.shuffle(self.list )"
   ]
  },
  {
   "cell_type": "code",
   "execution_count": null,
   "metadata": {},
   "outputs": [],
   "source": [
    "class Player():\n",
    "    def __init__(self, number:int):\n",
    "        self.number = number\n",
    "        self.hand = []\n",
    "        self.expedition = {}"
   ]
  },
  {
   "cell_type": "code",
   "execution_count": null,
   "metadata": {},
   "outputs": [],
   "source": []
  },
  {
   "cell_type": "code",
   "execution_count": null,
   "metadata": {},
   "outputs": [],
   "source": [
    "import pandas as pd\n",
    "from datetime import datetime\n",
    "class GameManager():\n",
    "    def __init__(self) -> None:\n",
    "        self.colours = [\"red\",\"blue\", \"yellow\", \"green\", \"white\"]\n",
    "        self.player1= Player(1)\n",
    "        self.player2= Player(2)\n",
    "        self.players = {1:self.player1, 2:self.player2}\n",
    "        self.player_turn = 1\n",
    "        self.deck = self.generate_deck()\n",
    "        self.discard_pile = self.generate_discard()\n",
    "        self.score_dict = {}\n",
    "\n",
    "    def next_player(self):\n",
    "        if self.player_turn == 1:\n",
    "            self.player_turn = 2\n",
    "        else: \n",
    "            self.player_turn=1\n",
    "\n",
    "    def generate_deck(self):\n",
    "        numbers = [0,0,0,2,3,4,5,6,7,8,9,10]\n",
    "        cards = []\n",
    "        for colour in self.colours:\n",
    "            for number in numbers:\n",
    "                cards.append(Card(number, colour))\n",
    "        deck = Deck(cards)\n",
    "        return deck\n",
    "\n",
    "    def generate_discard(self):\n",
    "        discard_dict = {}\n",
    "        for colour in self.colours:\n",
    "            discard_dict[colour] = []\n",
    "        return discard_dict\n",
    "\n",
    "    def check_card_to_expedition(self,player_n:int, card_n:int):\n",
    "        ''' check if card is too small to be played to the expedition'''\n",
    "        player = self.players[player_n]\n",
    "        card = player.hand[card_n]\n",
    "        colour = card.colour\n",
    "\n",
    "        if len(player.expedition[colour]) == 0:\n",
    "            return True\n",
    "\n",
    "        if player.expedition[colour][-1].number <= card.number:\n",
    "            return True\n",
    "\n",
    "        else:\n",
    "            return False\n",
    " \n",
    "    def is_move_legal(self,player:int, card:int, to_expedition:bool, draw_from:int):\n",
    "        ''' Check if player is allowed to do this move'''\n",
    "    \t#is allowed to play that expedition\n",
    "        if to_expedition:\n",
    "            allowed_to_expedition =  self.check_card_to_expedition(player, card)\n",
    "            if not allowed_to_expedition:\n",
    "                return False\n",
    "        \n",
    "        #is allowed to drawi from pile\n",
    "        if draw_from > -1:\n",
    "            colour = self.colours[draw_from]\n",
    "            if len (self.discard_pile[colour]) ==0:\n",
    "                return False\n",
    "        \n",
    "        return True\n",
    "\n",
    "    def take_random_action(self,player:int):\n",
    "        ''' generate_random action'''\n",
    "        card = random.randint(0,7)\n",
    "        to_expedition = random.choice([True,False])\n",
    "        draw_from = random.randint(-1,4)\n",
    "\n",
    "        legal = self.is_move_legal(player,card, to_expedition, draw_from)\n",
    "        if legal:\n",
    "            self.take_action(player,card, to_expedition, draw_from)\n",
    "            self.next_player()\n",
    "        else: \n",
    "            self.take_random_action(player)\n",
    "\n",
    "    def print_commentary(self, player_n:int, card:Card, to_expedition:bool, draw_from:int):\n",
    "        if to_expedition:\n",
    "            destination = \"expedition\"\n",
    "        else:\n",
    "            destination = \"disard pile\"\n",
    "\n",
    "        if draw_from == -1:\n",
    "            draw_location = \"deck\"\n",
    "        else:\n",
    "            draw_location = self.colours[draw_from]\n",
    "\n",
    "        print( f\"Player {player_n} plays {card.colour} {card.number} to: {destination}, and draws from: {draw_location}\")\n",
    "\n",
    "    def take_action(self, player_n:int, card_n:int, to_expedition:bool, draw_from:int ):\n",
    "        ''' Player takes action, choosing card from hand (number 0 to 7), \n",
    "        chooses if they play it to expedition or to discard pile. Also chooses if they draw from  '''\n",
    "        \n",
    "        player = self.players[player_n]\n",
    "        card = player.hand.pop(card_n)\n",
    "        colour = card.colour\n",
    "\n",
    "\n",
    "        #self.print_commentary(player_n, card, to_expedition, draw_from)\n",
    "        \n",
    "        if to_expedition:\n",
    "            player.expedition[colour].append(card)\n",
    "        else:\n",
    "            self.discard_pile[colour].append(card)\n",
    "\n",
    "        if draw_from == -1:\n",
    "            self.draw_card_from_deck(player)\n",
    "        else:\n",
    "            draw_colour = self.colours[draw_from]\n",
    "            card = self.discard_pile[draw_colour].pop() #takes last item\n",
    "            player.hand.append(card)\n",
    "\n",
    "    def initiate_expeditions(self):\n",
    "        #empty dicts for player expeditions\n",
    "        for n,player in self.players.items():\n",
    "            expedition_dict = {}\n",
    "            for colour in self.colours:\n",
    "                expedition_dict[colour] = []\n",
    "            player.expedition= expedition_dict\n",
    "    \n",
    "    def draw_card_from_deck(self,player:Player):\n",
    "        ''' draw a card from the deck and deal it to the player'''\n",
    "        card = self.deck.list.pop()\n",
    "        player.hand.append(card)\n",
    "\n",
    "    def deal_starting_cards(self):\n",
    "        ''' deal 8 cards to each player'''\n",
    "        for n,player in self.players.items():\n",
    "            for _ in range(0,8):\n",
    "                self.draw_card_from_deck(player)\n",
    "\n",
    "    def start_game(self):\n",
    "        self.deck.shuffle_deck()\n",
    "        self.initiate_expeditions()\n",
    "        self.deal_starting_cards()\n",
    "\n",
    "    def play_game(self):\n",
    "        while len(self.deck.list) > 0:\n",
    "            self.take_random_action(self.player_turn)\n",
    "        self.score()\n",
    "        #self.write_score()\n",
    "        #print(\"end\")\n",
    "    \n",
    "    def reset_game(self):\n",
    "        pass\n",
    "\n",
    "    def score(self):\n",
    "        score_dict = {1:0, 2:0}\n",
    "        for player_n, player in self.players.items():\n",
    "            for colour,colour_list in player.expedition.items():\n",
    "                if len(colour_list) == 0:\n",
    "                    pass\n",
    "                else:\n",
    "                    n_wagers = 0\n",
    "                    total = 0\n",
    "                    for card in colour_list:\n",
    "                        if card.number == 0:\n",
    "                            n_wagers += 1\n",
    "                        else:\n",
    "                            total += card.number\n",
    "                    score = (total - 20) * (n_wagers +1)\n",
    "            \n",
    "                    if len(colour_list) >= 8:\n",
    "                        score += 20\n",
    "\n",
    "                    #print(f\"player {player_n}: colour{colour}: {score} len_list = {len(colour_list) }\")\n",
    "                    score_dict[player_n] += score\n",
    "        \n",
    "        self.score_dict = score_dict\n",
    "\n",
    "\n",
    "\n",
    "\n",
    "    def write_score(self):\n",
    "        df = pd.read_csv(\"data/game_history.csv\", index_col=0)\n",
    "        # Insert Dict to the dataframe using DataFrame.append()\n",
    "        new_row = {'Datetime':f\"{datetime.now()}\", \n",
    "        'Player1 score': self.score_dict[1], \n",
    "        'Player2 score':self.score_dict[2], \n",
    "        'Player 1 model':\"random moves\", \n",
    "        'Player 2 model':\"random moves\",  }\n",
    "        df = df.append(new_row, ignore_index=True)\n",
    "        df.to_csv(\"data/game_history.csv\")\n"
   ]
  },
  {
   "cell_type": "code",
   "execution_count": null,
   "metadata": {},
   "outputs": [],
   "source": [
    "for x in range(0,10000):\n",
    "    gm = GameManager()\n",
    "    gm.start_game()\n",
    "    gm.play_game()\n",
    "    gm.write_score()"
   ]
  },
  {
   "cell_type": "code",
   "execution_count": null,
   "metadata": {},
   "outputs": [],
   "source": []
  },
  {
   "cell_type": "code",
   "execution_count": null,
   "metadata": {},
   "outputs": [],
   "source": [
    "df= pd.read_csv(\"data/game_history.csv\", index_col=0)\n",
    "df"
   ]
  },
  {
   "cell_type": "code",
   "execution_count": null,
   "metadata": {},
   "outputs": [],
   "source": [
    "df[\"Player1 score\"].mean()"
   ]
  },
  {
   "cell_type": "code",
   "execution_count": null,
   "metadata": {},
   "outputs": [],
   "source": [
    "df[\"Player2 score\"].mean()"
   ]
  },
  {
   "cell_type": "code",
   "execution_count": null,
   "metadata": {},
   "outputs": [],
   "source": [
    "gm.score()"
   ]
  },
  {
   "cell_type": "code",
   "execution_count": null,
   "metadata": {},
   "outputs": [],
   "source": [
    "gm.player2.expedition"
   ]
  },
  {
   "cell_type": "code",
   "execution_count": null,
   "metadata": {},
   "outputs": [],
   "source": [
    "for colour, colour_list in gm.player2.expedition.items():\n",
    "    for card in colour_list:\n",
    "        print(card)"
   ]
  },
  {
   "cell_type": "code",
   "execution_count": null,
   "metadata": {},
   "outputs": [],
   "source": [
    "gm.take_random_action(gm.player_turn)"
   ]
  },
  {
   "cell_type": "code",
   "execution_count": null,
   "metadata": {},
   "outputs": [],
   "source": [
    "print(gm.discard_pile[\"green\"][0])"
   ]
  },
  {
   "cell_type": "code",
   "execution_count": null,
   "metadata": {},
   "outputs": [],
   "source": [
    "gm.player_turn"
   ]
  },
  {
   "cell_type": "code",
   "execution_count": 2,
   "metadata": {},
   "outputs": [],
   "source": [
    "import warnings\n",
    "warnings.simplefilter(action='ignore', category=FutureWarning)\n",
    "import main\n",
    "main.run_games()"
   ]
  },
  {
   "cell_type": "code",
   "execution_count": 5,
   "metadata": {},
   "outputs": [
    {
     "name": "stdout",
     "output_type": "stream",
     "text": [
      "-32.524768849131775\n",
      "-33.2821919867699\n"
     ]
    }
   ],
   "source": [
    "import pandas as pd\n",
    "df= pd.read_csv(\"data/game_history.csv\", index_col=0)\n",
    "print(df[\"Player1 score\"].mean())\n",
    "print(df[\"Player2 score\"].mean())"
   ]
  },
  {
   "cell_type": "code",
   "execution_count": null,
   "metadata": {},
   "outputs": [],
   "source": []
  }
 ],
 "metadata": {
  "kernelspec": {
   "display_name": ".venv",
   "language": "python",
   "name": "python3"
  },
  "language_info": {
   "codemirror_mode": {
    "name": "ipython",
    "version": 3
   },
   "file_extension": ".py",
   "mimetype": "text/x-python",
   "name": "python",
   "nbconvert_exporter": "python",
   "pygments_lexer": "ipython3",
   "version": "3.8.0"
  },
  "orig_nbformat": 4,
  "vscode": {
   "interpreter": {
    "hash": "139d25e1a6567e7867ee9361f1ada4936c9c7af43f263f253cb76ff72a283ca5"
   }
  }
 },
 "nbformat": 4,
 "nbformat_minor": 2
}
